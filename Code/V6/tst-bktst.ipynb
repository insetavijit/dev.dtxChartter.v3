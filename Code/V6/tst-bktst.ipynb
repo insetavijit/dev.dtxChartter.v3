{
 "cells": [
  {
   "cell_type": "code",
   "execution_count": null,
   "id": "d53fcf85",
   "metadata": {},
   "outputs": [],
   "source": [
    "\"\"\"Load Source OHLCV dta\"\"\"\n",
    "import pandas as pd\n",
    "import numpy as np\n",
    "import vectorbt as vbt\n",
    "\n",
    "\n",
    "dta = pd.read_parquet(\"./signaltbl.parquet\", engine=\"pyarrow\")\n",
    "\n",
    "dta"
   ]
  },
  {
   "cell_type": "code",
   "execution_count": null,
   "id": "fd3e9a05",
   "metadata": {},
   "outputs": [],
   "source": [
    "import pandas as pd\n",
    "import vectorbt as vbt\n",
    "df = dta.copy()\n",
    "\n",
    "entries = df['entry'].notna()  # True wherever entry exists\n",
    "exits = pd.Series(False, index=df.index)  # empty if you want only SL/TP\n",
    "\n",
    "# --- Portfolio using stop-loss / take-profit ---\n",
    "pf = vbt.Portfolio.from_signals(\n",
    "    close=df['close'],\n",
    "    entries=entries,\n",
    "    # exits=exits,\n",
    "    sl_stop=df['sl'],\n",
    "    tp_stop=df['target'],\n",
    "    init_cash=100_000,\n",
    "    size=1,\n",
    "    fees=0.001,\n",
    "    slippage=0.0005,\n",
    "    accumulate=False,\n",
    "    direction='longonly'\n",
    ")"
   ]
  }
 ],
 "metadata": {
  "kernelspec": {
   "display_name": "chartter-v3-RqV_4R9D-py3.12",
   "language": "python",
   "name": "python3"
  },
  "language_info": {
   "codemirror_mode": {
    "name": "ipython",
    "version": 3
   },
   "file_extension": ".py",
   "mimetype": "text/x-python",
   "name": "python",
   "nbconvert_exporter": "python",
   "pygments_lexer": "ipython3",
   "version": "3.12.10"
  }
 },
 "nbformat": 4,
 "nbformat_minor": 5
}
